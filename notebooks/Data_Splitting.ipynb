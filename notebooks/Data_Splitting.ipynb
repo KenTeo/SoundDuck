{
 "cells": [
  {
   "cell_type": "code",
   "execution_count": 7,
   "metadata": {},
   "outputs": [],
   "source": [
    "import os\n",
    "from pathlib import Path\n",
    "from typing import List\n",
    "\n",
    "from pydub import AudioSegment"
   ]
  },
  {
   "cell_type": "code",
   "execution_count": 8,
   "metadata": {},
   "outputs": [],
   "source": [
    "# # change working directory to the parent folder for importing and enable auto reaload\n",
    "# os.chdir('..')\n",
    "# %load_ext autoreload\n",
    "# %autoreload 2"
   ]
  },
  {
   "cell_type": "code",
   "execution_count": 9,
   "metadata": {},
   "outputs": [],
   "source": [
    "class AudioSplitter:\n",
    "    \"\"\"Split the audio into chunks\"\"\"\n",
    "    \n",
    "    @classmethod\n",
    "    def split_audios_from_folder(cls, audio_folder_dir: Path):\n",
    "        \"\"\"\n",
    "        1. Create directory for saving files\n",
    "        2. For each audio file in the directory:\n",
    "            1) Split the file into chunks\n",
    "            2) Save each group of chunks as files into the new directory\n",
    "        \"\"\"\n",
    "        split_folder_dir = cls.create_split_folder_dir(audio_folder_dir)\n",
    "        \n",
    "        # get all the file directory within the folder\n",
    "        audio_file_dir_list = [os.path.join(audio_folder_dir, file) for file in os.listdir(audio_folder_dir) if os.path.isfile(os.path.join(audio_folder_dir, file))]\n",
    "        \n",
    "        # split and save to the split folder\n",
    "        for audio_file_dir in audio_file_dir_list:\n",
    "            cls.split_and_save(audio_file_dir, split_folder_dir)\n",
    "            \n",
    "        \n",
    "    @classmethod\n",
    "    def create_split_folder_dir(cls, audio_folder_dir: Path, suffix=\"_split\"):\n",
    "        \"\"\"Create a directory at the same level as the input folder, suffix with \"_split\"\"\"\n",
    "        # get the new directory name\n",
    "        current_folder_name = os.path.split(audio_folder_dir)[-1]\n",
    "        split_folder_name = current_folder_name + suffix\n",
    "        split_folder_dir = Path(os.path.join(audio_folder_dir.parent, split_folder_name))\n",
    "        \n",
    "        # create the directory\n",
    "        split_folder_dir.mkdir(parents=True, exist_ok=True)\n",
    "        return split_folder_dir\n",
    "        \n",
    "    @classmethod\n",
    "    def split_and_save(cls, audio_file_dir, split_folder_dir, format=\"mp3\"):\n",
    "        \"\"\" \n",
    "        1. Split the file into chunk list\n",
    "        2. Get the original file name\n",
    "        3. Save each file in the chunk list with name appended\n",
    "        \"\"\"\n",
    "        # split\n",
    "        audio_chunk_list = cls.split_audio(audio_file_dir)\n",
    "        \n",
    "        # get names\n",
    "        file_full_name = os.path.basename(audio_file_dir)\n",
    "        file_name ,extension = os.path.splitext(file_full_name)\n",
    "        \n",
    "        # save\n",
    "        for i, audio in enumerate(audio_chunk_list):\n",
    "            new_file_name = f\"{file_name}_{i}{extension}\"\n",
    "            file_dir = os.path.join(split_folder_dir, new_file_name)\n",
    "            audio.export(file_dir, format=format)\n",
    "\n",
    "    @classmethod\n",
    "    def split_audio(cls, audio_file_dir: Path, interval_s=3.0, overlap_s=0.0):\n",
    "        \"\"\"\n",
    "        Split a single mp3 file into a list of files by the interval and overlapping\n",
    "        Ignore the last piece if not long enough for the interval.\n",
    "        \"\"\"\n",
    "        # calculate number of chunks\n",
    "        audio = cls.read_audio(audio_file_dir)\n",
    "        total_length_s = len(audio) / 1000\n",
    "        effective_length_s = total_length_s - overlap_s # exclude the last overlap since the last chunk might not be enough for a full interval\n",
    "        num_chunks = int(effective_length_s // ((interval_s - overlap_s)))\n",
    "        chunk_length_ms = (interval_s - overlap_s) * 1000\n",
    "        \n",
    "        # split the audio\n",
    "        audio_chunk_list = [audio[chunk * chunk_length_ms: (chunk + 1) * chunk_length_ms] for chunk in range(num_chunks)]\n",
    "        \n",
    "        return audio_chunk_list\n",
    "    \n",
    "    @classmethod\n",
    "    def read_audio(cls, audio_file_dir):\n",
    "        \"\"\"\n",
    "        Read a single mp3 file and return it.\n",
    "        Can be used for playback in jupyter\n",
    "        \"\"\"\n",
    "        audio = AudioSegment.from_mp3(audio_file_dir)\n",
    "        return audio"
   ]
  },
  {
   "cell_type": "code",
   "execution_count": 10,
   "metadata": {},
   "outputs": [],
   "source": [
    "test_folder_dir = Path(r\"../data/test_audios\")"
   ]
  },
  {
   "cell_type": "code",
   "execution_count": 11,
   "metadata": {},
   "outputs": [],
   "source": [
    "AudioSplitter.split_audios_from_folder(test_folder_dir)"
   ]
  }
 ],
 "metadata": {
  "kernelspec": {
   "display_name": "soundduck",
   "language": "python",
   "name": "python3"
  },
  "language_info": {
   "codemirror_mode": {
    "name": "ipython",
    "version": 3
   },
   "file_extension": ".py",
   "mimetype": "text/x-python",
   "name": "python",
   "nbconvert_exporter": "python",
   "pygments_lexer": "ipython3",
   "version": "3.8.16"
  },
  "orig_nbformat": 4
 },
 "nbformat": 4,
 "nbformat_minor": 2
}
